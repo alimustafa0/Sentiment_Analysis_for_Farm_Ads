{
 "cells": [
  {
   "cell_type": "code",
   "execution_count": 62,
   "metadata": {},
   "outputs": [],
   "source": [
    "import pandas as pd\n",
    "from sklearn.model_selection import train_test_split\n",
    "from keras.preprocessing.text import Tokenizer\n",
    "from keras_preprocessing.sequence import pad_sequences\n",
    "from keras.models import Sequential\n",
    "from keras.layers import Embedding, LSTM, Dense, Dropout\n",
    "from keras.utils import to_categorical\n",
    "from sklearn.metrics import classification_report, confusion_matrix\n",
    "from imblearn.over_sampling import RandomOverSampler"
   ]
  },
  {
   "cell_type": "code",
   "execution_count": 102,
   "metadata": {},
   "outputs": [],
   "source": [
    "# Define the path to the data file\n",
    "data_file_path = 'farm-ads.txt'\n",
    "\n",
    "# Read the data from the file\n",
    "with open(data_file_path, 'r') as file:\n",
    "    lines = file.readlines()\n",
    "\n",
    "# Create lists to store labels and text\n",
    "labels = []\n",
    "text = []\n",
    "\n",
    "# Process each line of the file\n",
    "for line in lines:\n",
    "    parts = line.strip().split(' ', 1)\n",
    "    label = int(parts[0])\n",
    "    ad_text = parts[1]\n",
    "    labels.append(label)\n",
    "    text.append(ad_text)\n",
    "\n",
    "# Create a DataFrame\n",
    "df = pd.DataFrame({'label': labels, 'text': text})"
   ]
  },
  {
   "cell_type": "code",
   "execution_count": 103,
   "metadata": {},
   "outputs": [],
   "source": [
    "# Step 2: Text Preprocessing\n",
    "X = df['text']\n",
    "y = df['label']"
   ]
  },
  {
   "cell_type": "code",
   "execution_count": 104,
   "metadata": {},
   "outputs": [],
   "source": [
    "# Step 3: Apply Oversampling\n",
    "oversampler = RandomOverSampler(random_state=42)\n",
    "\n",
    "# Reshape the text data to a 2D array\n",
    "X_reshaped = X.values.reshape(-1, 1)\n",
    "\n",
    "X_resampled, y_resampled = oversampler.fit_resample(X_reshaped, y)"
   ]
  },
  {
   "cell_type": "code",
   "execution_count": 122,
   "metadata": {},
   "outputs": [],
   "source": [
    "# Step 3: Model Preparation\n",
    "tokenizer = Tokenizer(num_words=10000)  # Consider the top 10,000 words\n",
    "tokenizer.fit_on_texts(X_resampled[:, 0])\n",
    "X_sequence = tokenizer.texts_to_sequences(X_resampled[:, 0])\n",
    "X_padded = pad_sequences(X_sequence, maxlen=200)  # Set a reasonable sequence length\n",
    "\n",
    "X_train, X_test, y_train, y_test = train_test_split(X_padded, y_resampled, test_size=0.2, random_state=42)"
   ]
  },
  {
   "cell_type": "code",
   "execution_count": 124,
   "metadata": {},
   "outputs": [],
   "source": [
    "# Convert labels to categorical format\n",
    "y_train_categorical = to_categorical(y_train)\n",
    "y_test_categorical = to_categorical(y_test)"
   ]
  },
  {
   "cell_type": "code",
   "execution_count": 125,
   "metadata": {},
   "outputs": [],
   "source": [
    "# Step 4: Build and Train the Model\n",
    "model = Sequential()\n",
    "model.add(Embedding(input_dim=10000, output_dim=100, input_length=200))\n",
    "model.add(LSTM(128, return_sequences=True))\n",
    "model.add(Dropout(0.2))\n",
    "model.add(LSTM(64))\n",
    "model.add(Dense(2, activation='softmax'))  # Output layer with 2 classes"
   ]
  },
  {
   "cell_type": "code",
   "execution_count": 126,
   "metadata": {},
   "outputs": [],
   "source": [
    "model.compile(loss='categorical_crossentropy', optimizer='adam', metrics=['accuracy'])"
   ]
  },
  {
   "cell_type": "code",
   "execution_count": 127,
   "metadata": {},
   "outputs": [
    {
     "name": "stdout",
     "output_type": "stream",
     "text": [
      "Epoch 1/7\n",
      "56/56 [==============================] - 30s 455ms/step - loss: 0.4337 - accuracy: 0.7927 - val_loss: 0.2769 - val_accuracy: 0.8778\n",
      "Epoch 2/7\n",
      "56/56 [==============================] - 25s 448ms/step - loss: 0.1704 - accuracy: 0.9395 - val_loss: 0.2629 - val_accuracy: 0.8993\n",
      "Epoch 3/7\n",
      "56/56 [==============================] - 25s 450ms/step - loss: 0.1111 - accuracy: 0.9644 - val_loss: 0.2911 - val_accuracy: 0.8993\n",
      "Epoch 4/7\n",
      "56/56 [==============================] - 27s 480ms/step - loss: 0.0795 - accuracy: 0.9796 - val_loss: 0.3869 - val_accuracy: 0.8971\n",
      "Epoch 5/7\n",
      "56/56 [==============================] - 26s 461ms/step - loss: 0.0696 - accuracy: 0.9842 - val_loss: 0.3520 - val_accuracy: 0.9005\n",
      "Epoch 6/7\n",
      "56/56 [==============================] - 26s 462ms/step - loss: 0.0622 - accuracy: 0.9844 - val_loss: 0.3452 - val_accuracy: 0.8925\n",
      "Epoch 7/7\n",
      "56/56 [==============================] - 27s 476ms/step - loss: 0.0517 - accuracy: 0.9859 - val_loss: 0.4027 - val_accuracy: 0.8914\n"
     ]
    },
    {
     "data": {
      "text/plain": [
       "<keras.callbacks.History at 0x1571509aa08>"
      ]
     },
     "execution_count": 127,
     "metadata": {},
     "output_type": "execute_result"
    }
   ],
   "source": [
    "model.fit(X_train, y_train_categorical, validation_data=(X_test, y_test_categorical), epochs=7, batch_size=64)"
   ]
  },
  {
   "cell_type": "code",
   "execution_count": 128,
   "metadata": {},
   "outputs": [
    {
     "name": "stdout",
     "output_type": "stream",
     "text": [
      "28/28 [==============================] - 3s 91ms/step\n"
     ]
    }
   ],
   "source": [
    "# Step 5: Model Evaluation\n",
    "y_pred_categorical = model.predict(X_test)\n",
    "y_pred = [1 if pred[1] > pred[0] else 0 for pred in y_pred_categorical]"
   ]
  },
  {
   "cell_type": "code",
   "execution_count": 129,
   "metadata": {},
   "outputs": [
    {
     "name": "stdout",
     "output_type": "stream",
     "text": [
      "Classification Report:\n",
      "               precision    recall  f1-score   support\n",
      "\n",
      "           0       0.88      0.91      0.89       432\n",
      "           1       0.91      0.88      0.89       452\n",
      "\n",
      "    accuracy                           0.89       884\n",
      "   macro avg       0.89      0.89      0.89       884\n",
      "weighted avg       0.89      0.89      0.89       884\n",
      "\n",
      "Confusion Matrix:\n",
      " [[391  41]\n",
      " [ 55 397]]\n"
     ]
    }
   ],
   "source": [
    "print(\"Classification Report:\\n\", classification_report(y_test, y_pred))\n",
    "print(\"Confusion Matrix:\\n\", confusion_matrix(y_test, y_pred))"
   ]
  },
  {
   "cell_type": "code",
   "execution_count": 130,
   "metadata": {},
   "outputs": [],
   "source": [
    "# Save the Keras model\n",
    "model.save('sentiment_model.h5')"
   ]
  },
  {
   "cell_type": "code",
   "execution_count": 133,
   "metadata": {},
   "outputs": [],
   "source": [
    "from keras.models import load_model"
   ]
  },
  {
   "cell_type": "code",
   "execution_count": 134,
   "metadata": {},
   "outputs": [],
   "source": [
    "# Load the Keras model\n",
    "loaded_model = load_model('sentiment_model.h5')"
   ]
  }
 ],
 "metadata": {
  "kernelspec": {
   "display_name": "Python 3",
   "language": "python",
   "name": "python3"
  },
  "language_info": {
   "codemirror_mode": {
    "name": "ipython",
    "version": 3
   },
   "file_extension": ".py",
   "mimetype": "text/x-python",
   "name": "python",
   "nbconvert_exporter": "python",
   "pygments_lexer": "ipython3",
   "version": "3.7.4"
  }
 },
 "nbformat": 4,
 "nbformat_minor": 2
}
